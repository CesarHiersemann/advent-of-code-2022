{
 "cells": [
  {
   "cell_type": "markdown",
   "id": "0540d137",
   "metadata": {},
   "source": [
    "# Day 1 - Calorie Counting"
   ]
  },
  {
   "cell_type": "markdown",
   "id": "5a373e57",
   "metadata": {},
   "source": [
    "## Part 1"
   ]
  },
  {
   "cell_type": "markdown",
   "id": "0c7619b8",
   "metadata": {},
   "source": [
    "Load data"
   ]
  },
  {
   "cell_type": "code",
   "execution_count": 5,
   "id": "9c2e30b0",
   "metadata": {},
   "outputs": [],
   "source": [
    "from pathlib import Path"
   ]
  },
  {
   "cell_type": "code",
   "execution_count": 10,
   "id": "3befea83",
   "metadata": {},
   "outputs": [],
   "source": [
    "input_data = Path('./input.txt').read_text()"
   ]
  },
  {
   "cell_type": "markdown",
   "id": "4e86aa24",
   "metadata": {},
   "source": [
    "Find the Elf carrying the most Calories. How many total Calories is that Elf carrying?"
   ]
  },
  {
   "cell_type": "code",
   "execution_count": 30,
   "id": "08e2ab55",
   "metadata": {},
   "outputs": [
    {
     "name": "stdout",
     "output_type": "stream",
     "text": [
      "72602\n"
     ]
    }
   ],
   "source": [
    "# one-liner\n",
    "print(max([sum([int(calorie) for calorie in grp.split('\\n') if calorie]) for grp in input_data.split('\\n\\n')]))"
   ]
  },
  {
   "cell_type": "code",
   "execution_count": 46,
   "id": "62b25fc1",
   "metadata": {},
   "outputs": [
    {
     "name": "stdout",
     "output_type": "stream",
     "text": [
      "Maximum calories carried 72602 and the poor elf is number 217\n"
     ]
    }
   ],
   "source": [
    "# multi-liner \n",
    "input_split_by_elf = input_data.split('\\n\\n')\n",
    "\n",
    "calories_carried_per_elf = {}\n",
    "for elf_idx,input_str_per_elf in enumerate(input_split_by_elf):\n",
    "    list_of_int_calories = [int(str_calorie) for str_calorie in input_str_per_elf.split('\\n') if str_calorie]\n",
    "    calories_carried_per_elf.update({elf_idx: sum(list_of_int_calories)})\n",
    "\n",
    "max_calories_carried = max(calories_carried_per_elf.values())\n",
    "elf_idx_of_max = [idx for idx in calories_carried_per_elf.keys() if calories_carried_per_elf[idx] == max_calories_carried][0]\n",
    "print(f\"Maximum calories carried {max_calories_carried} and the poor elf is number {elf_idx_of_max}\")"
   ]
  },
  {
   "cell_type": "markdown",
   "id": "8af458f2",
   "metadata": {},
   "source": [
    "## Part 2"
   ]
  },
  {
   "cell_type": "markdown",
   "id": "94f328e2",
   "metadata": {},
   "source": [
    "Find the top three Elves carrying the most Calories. How many Calories are those Elves carrying in total?"
   ]
  },
  {
   "cell_type": "code",
   "execution_count": 49,
   "id": "061b6ff5",
   "metadata": {},
   "outputs": [],
   "source": [
    "calories_carried_list = list(calories_carried_per_elf.values())"
   ]
  },
  {
   "cell_type": "code",
   "execution_count": 50,
   "id": "7041a221",
   "metadata": {},
   "outputs": [],
   "source": [
    "calories_carried_list.sort()"
   ]
  },
  {
   "cell_type": "code",
   "execution_count": 52,
   "id": "aea972ed",
   "metadata": {},
   "outputs": [
    {
     "data": {
      "text/plain": [
       "207410"
      ]
     },
     "execution_count": 52,
     "metadata": {},
     "output_type": "execute_result"
    }
   ],
   "source": [
    "sum(calories_carried_list[-3:])"
   ]
  },
  {
   "cell_type": "code",
   "execution_count": null,
   "id": "52a2e436",
   "metadata": {},
   "outputs": [],
   "source": []
  }
 ],
 "metadata": {
  "kernelspec": {
   "display_name": "Python 3 (ipykernel)",
   "language": "python",
   "name": "python3"
  },
  "language_info": {
   "codemirror_mode": {
    "name": "ipython",
    "version": 3
   },
   "file_extension": ".py",
   "mimetype": "text/x-python",
   "name": "python",
   "nbconvert_exporter": "python",
   "pygments_lexer": "ipython3",
   "version": "3.10.6"
  }
 },
 "nbformat": 4,
 "nbformat_minor": 5
}
